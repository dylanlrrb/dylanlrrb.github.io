{
 "cells": [
  {
   "cell_type": "markdown",
   "metadata": {},
   "source": [
    "# Super Resolution"
   ]
  },
  {
   "cell_type": "code",
   "execution_count": null,
   "metadata": {},
   "outputs": [],
   "source": [
    "import tensorflow as tf\n",
    "from tensorflow import keras\n",
    "from tensorflow.keras import layers\n",
    "import matplotlib.pyplot as plt\n",
    "import matplotlib as mpl\n",
    "import numpy as np\n",
    "import pathlib\n",
    "import os\n",
    "from functools import reduce\n",
    "from random import random\n",
    "\n",
    "mpl.rcParams['figure.dpi'] = 600\n"
   ]
  },
  {
   "cell_type": "code",
   "execution_count": null,
   "metadata": {},
   "outputs": [],
   "source": [
    "dataset_name = 'flickr30k_images'\n",
    "data_dir = f'/root/.keras/datasets/{dataset_name}'\n",
    "\n",
    "if not os.path.isdir(data_dir):\n",
    "  dataset_url = f'https://datasets-349058029.s3.us-west-2.amazonaws.com/flickr/{dataset_name}.zip'\n",
    "  tf.keras.utils.get_file(origin=dataset_url, extract=True)\n",
    "\n",
    "data_dir = pathlib.Path(data_dir)\n",
    "print(f\"{len(list(data_dir.glob('*/*.jpg')))} images in dataset\")\n",
    "\n",
    "batch_size = 20\n",
    "resolution_down_factor = 0.25\n",
    "patch_size = 256\n",
    "image_size = 256\n",
    "\n",
    "ds = tf.keras.utils.image_dataset_from_directory(\n",
    "  data_dir,\n",
    "  labels=None,\n",
    "  crop_to_aspect_ratio=True,\n",
    "  shuffle=True,\n",
    "  image_size=(image_size, image_size),\n",
    "  batch_size=batch_size)\n",
    "\n",
    "# reduce the dataset size for faster processing\n",
    "ds = ds.take(int(0.001 * len(ds)))\n",
    "\n",
    "print(f'dataset size: {len(ds)}')"
   ]
  },
  {
   "cell_type": "code",
   "execution_count": null,
   "metadata": {},
   "outputs": [],
   "source": [
    "reduce_resolution = tf.keras.Sequential([\n",
    "  layers.Resizing(int(image_size*resolution_down_factor), int(image_size*resolution_down_factor)),\n",
    "  layers.Resizing(image_size, image_size),])\n",
    "\n",
    "scale = layers.Rescaling(1./255)\n",
    "\n",
    "def transforms(input):\n",
    "  y = scale(input)\n",
    "  X = tf.cast(reduce_resolution(input), tf.uint8) \n",
    "  return (X, y)\n",
    "\n",
    "\n",
    "AUTOTUNE = tf.data.AUTOTUNE\n",
    "\n",
    "test_ds = ds.map(transforms, num_parallel_calls=AUTOTUNE).prefetch(buffer_size=AUTOTUNE)"
   ]
  },
  {
   "cell_type": "code",
   "execution_count": null,
   "metadata": {},
   "outputs": [],
   "source": [
    "# Grab a batch of images\n",
    "X_batch, y_batch = iter(test_ds).get_next()"
   ]
  },
  {
   "cell_type": "code",
   "execution_count": null,
   "metadata": {},
   "outputs": [],
   "source": [
    "print(len(X_batch), len(y_batch))"
   ]
  },
  {
   "cell_type": "code",
   "execution_count": null,
   "metadata": {},
   "outputs": [],
   "source": [
    "def process(image, model, save_path=None):\n",
    "  out = np.clip(np.squeeze(model.predict(np.array([image]))), -1.0, 1.0)\n",
    " \n",
    "  out = out + 1\n",
    "  out = out / 2\n",
    "  out = out * 255\n",
    "  out = out.astype(np.uint8)\n",
    "\n",
    "  if save_path is not None:\n",
    "    plt.imsave(save_path, out)\n",
    "\n",
    "  return out"
   ]
  },
  {
   "cell_type": "code",
   "execution_count": null,
   "metadata": {},
   "outputs": [],
   "source": [
    "# Show example images\n",
    "fig = plt.figure(figsize=(4, 2), dpi=300)\n",
    "columns = 4\n",
    "rows = 2\n",
    "plt.title('input vs target', fontsize=4)\n",
    "plt.axis('off')\n",
    "for i in range(1, columns*rows+1, 2):\n",
    "    input = X_batch[i]\n",
    "    target = y_batch[i]\n",
    "    fig.add_subplot(rows, columns, i)\n",
    "    plt.axis('off')\n",
    "    plt.imshow(input)\n",
    "    fig.add_subplot(rows, columns, i+1)\n",
    "    plt.axis('off')\n",
    "    plt.imshow(target)\n",
    "plt.show()"
   ]
  },
  {
   "cell_type": "code",
   "execution_count": null,
   "metadata": {},
   "outputs": [],
   "source": [
    "rand_batch_int = int(random() * batch_size)"
   ]
  },
  {
   "cell_type": "code",
   "execution_count": null,
   "metadata": {},
   "outputs": [],
   "source": [
    "def plot_results(model_arch):\n",
    "  \n",
    "  save_path = f'./result_imgs/{model_arch}'\n",
    "  os.makedirs(save_path, exist_ok=True)\n",
    "\n",
    "  input = X_batch[rand_batch_int]\n",
    "  target = y_batch[rand_batch_int]\n",
    "\n",
    "  # if input_scaling == 'tanh':\n",
    "  #   input = layers.Rescaling(1./127.5, offset=-1)(input)\n",
    "\n",
    "  # if input_scaling == '0-1':\n",
    "  #   input = layers.Rescaling(1./255)(input)\n",
    "\n",
    "  plt.imsave(f'{save_path}/original.jpg', (input * 255).numpy().astype(np.uint8))\n",
    "\n",
    "  model = tf.keras.models.load_model(f'models/{model_arch}.h5', compile=False)\n",
    "  sr_image = process(X_batch[rand_batch_int], model, f'{save_path}/enhanced.jpg')\n",
    "\n",
    "\n",
    "  # Display results\n",
    "  fig = plt.figure(figsize=(2, 2), dpi=600)\n",
    "  columns, rows = (2, 2)\n",
    "\n",
    "  fig.add_subplot(rows, columns, 1)\n",
    "  plt.title('Input Image', fontsize=4)\n",
    "  plt.axis('off')\n",
    "  plt.imshow(input)\n",
    "\n",
    "  fig.add_subplot(rows, columns, 2)\n",
    "  plt.title('Ground Truth', fontsize=4)\n",
    "  plt.axis('off')\n",
    "  plt.imshow(target)\n",
    "\n",
    "  fig.add_subplot(rows, columns, 3)\n",
    "  plt.title('Result', fontsize=4)\n",
    "  plt.axis('off')\n",
    "  plt.imshow(sr_image)\n",
    "\n",
    "  plt.show()\n"
   ]
  },
  {
   "cell_type": "code",
   "execution_count": null,
   "metadata": {},
   "outputs": [],
   "source": [
    "plot_results('generator_4Xzoom_plossX0')"
   ]
  },
  {
   "cell_type": "code",
   "execution_count": null,
   "metadata": {},
   "outputs": [],
   "source": [
    "plot_results('generator_4Xzoom_plossX0-1')"
   ]
  },
  {
   "cell_type": "code",
   "execution_count": null,
   "metadata": {},
   "outputs": [],
   "source": [
    "def load_img(image_path):\n",
    "  img = tf.io.read_file(image_path)\n",
    "  img = tf.image.decode_image(img, channels=3)\n",
    "  img = tf.image.convert_image_dtype(img, tf.uint8)\n",
    "  img = img[tf.newaxis, :]\n",
    "  return img"
   ]
  },
  {
   "cell_type": "code",
   "execution_count": null,
   "metadata": {},
   "outputs": [],
   "source": [
    "def enhance_w_overlap_trim(image_path, scale, overlap, trim, model, save_path):\n",
    "  model_output_dim = 256\n",
    "  trimmed_model_output_dim = model_output_dim - trim\n",
    "  img = load_img(image_path)\n",
    "  b, height, width, d = img.shape\n",
    "  numTiles = min([height, width]) // trimmed_model_output_dim\n",
    "  newDim = numTiles * scale\n",
    "  upscaledDim = newDim*model_output_dim + (overlap * (numTiles - 1))\n",
    "  upscaled_img = tf.squeeze(tf.image.resize(\n",
    "    img,\n",
    "    [upscaledDim, upscaledDim],\n",
    "    preserve_aspect_ratio=True))\n",
    "\n",
    "  crops = []\n",
    "  for h in range(newDim):\n",
    "    for w in range(newDim):\n",
    "      crop = tf.slice(upscaled_img, [max(h*model_output_dim - h*overlap, 0), max(w*model_output_dim - w*overlap, 0), 0], [model_output_dim, model_output_dim, -1])\n",
    "      crops.append(crop)\n",
    "\n",
    "  crops = model.predict(np.array(crops))\n",
    "  crops = [np.squeeze(c) for c in crops]\n",
    "  crops = [tf.slice(c, [trim, trim, 0], [trimmed_model_output_dim, trimmed_model_output_dim, -1]) for c in crops]\n",
    "\n",
    "  overlap = overlap - trim\n",
    "\n",
    "  rows = []\n",
    "  for i in range(0, newDim*newDim, newDim):\n",
    "    row = crops[i]\n",
    "    for crop in crops[i+1:i+newDim]:\n",
    "      left = tf.slice(row, [0, 0, 0], [-1, row.shape[1] - overlap, -1])\n",
    "      right = tf.slice(crop, [0, overlap, 0], [-1, -1, -1])\n",
    "      overlap_left = tf.slice(row, [0, row.shape[1] - overlap, 0], [-1, -1, -1])\n",
    "      overlap_right = tf.slice(crop, [0, 0, 0], [-1, overlap, -1])\n",
    "      overlap_avg = (overlap_left + overlap_right) / 2\n",
    "      row = tf.concat((left, overlap_avg, right), axis=1)\n",
    "    rows.append(row)\n",
    "\n",
    "  \n",
    "  whole = rows[0]\n",
    "  for row in rows[1:]:\n",
    "    top = tf.slice(whole, [0, 0, 0], [whole.shape[0] - overlap, -1, -1])\n",
    "    bottom = tf.slice(row, [overlap, 0, 0], [-1, -1, -1])\n",
    "    overlap_top = tf.slice(whole, [whole.shape[0] - overlap, 0, 0], [-1, -1, -1])\n",
    "    overlap_bottom = tf.slice(row, [0, 0, 0], [overlap, -1, -1])\n",
    "    overlap_avg = (overlap_top + overlap_bottom) / 2\n",
    "    whole = tf.concat((top, overlap_avg, bottom), axis=0)\n",
    "\n",
    "\n",
    "  whole = whole + 1\n",
    "  whole = whole / 2\n",
    "  whole = whole * 255\n",
    "  whole = np.clip(whole, 0, 255).astype(np.uint8)\n",
    "\n",
    "  plt.title('Original')\n",
    "  plt.imshow(tf.cast(upscaled_img, tf.uint8))\n",
    "  plt.show()\n",
    "\n",
    "  plt.title(f'{scale}x enhanced')\n",
    "  plt.imsave(save_path, whole)\n",
    "  plt.imshow(whole)\n",
    "  plt.show()\n",
    "\n",
    "# model = tf.keras.models.load_model('models/generator_4Xzoom_plossX0-1.h5', compile=False)\n",
    "# enhance_w_overlap_trim('./dog.jpg', 4, 15, 10, model, './dog_generator_4Xzoom_plossX0-1.jpg')"
   ]
  },
  {
   "cell_type": "code",
   "execution_count": null,
   "metadata": {},
   "outputs": [],
   "source": []
  }
 ],
 "metadata": {
  "interpreter": {
   "hash": "31f2aee4e71d21fbe5cf8b01ff0e069b9275f58929596ceb00d14d90e3e16cd6"
  },
  "kernelspec": {
   "display_name": "Python 3.8.10 64-bit",
   "language": "python",
   "name": "python3"
  },
  "language_info": {
   "codemirror_mode": {
    "name": "ipython",
    "version": 3
   },
   "file_extension": ".py",
   "mimetype": "text/x-python",
   "name": "python",
   "nbconvert_exporter": "python",
   "pygments_lexer": "ipython3",
   "version": "3.8.10"
  },
  "orig_nbformat": 4
 },
 "nbformat": 4,
 "nbformat_minor": 2
}
