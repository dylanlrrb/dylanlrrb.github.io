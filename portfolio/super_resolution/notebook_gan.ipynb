{
 "cells": [
  {
   "cell_type": "markdown",
   "metadata": {},
   "source": [
    "# Super Resolution"
   ]
  },
  {
   "cell_type": "code",
   "execution_count": null,
   "metadata": {},
   "outputs": [],
   "source": [
    "import tensorflow as tf\n",
    "import matplotlib.pyplot as plt\n",
    "import matplotlib as mpl\n",
    "import numpy as np\n",
    "import imageio\n",
    "import pickle as pkl\n",
    "from PIL import Image as im\n",
    "\n",
    "mpl.rcParams['figure.dpi'] = 100\n"
   ]
  },
  {
   "cell_type": "code",
   "execution_count": null,
   "metadata": {},
   "outputs": [],
   "source": [
    "anim_file = 'assets/224_baboon.gif'\n",
    "\n",
    "with open('train_samples/gan_in224_4Xzoom_plossX0-1_monilenet_backbone_baboon.pkl', 'rb') as f:\n",
    "    train_samples = pkl.load(f)\n",
    "    with imageio.get_writer(anim_file, mode='I', fps=5) as writer:\n",
    "      for sample in train_samples:\n",
    "        writer.append_data(np.array(sample))"
   ]
  },
  {
   "cell_type": "code",
   "execution_count": null,
   "metadata": {},
   "outputs": [],
   "source": [
    "def load_img(image_path):\n",
    "  img = tf.io.read_file(image_path)\n",
    "  img = tf.image.decode_image(img, channels=3)\n",
    "  img = tf.image.convert_image_dtype(img, tf.uint8)\n",
    "  img = img[tf.newaxis, :]\n",
    "  return img"
   ]
  },
  {
   "cell_type": "code",
   "execution_count": null,
   "metadata": {},
   "outputs": [],
   "source": [
    "def enhance_w_overlap_trim(image_path, scale, model_output_dim, overlap, trim, model, save_path):\n",
    "  trimmed_model_output_dim = model_output_dim - trim\n",
    "  img = load_img(image_path)\n",
    "  b, height, width, d = img.shape\n",
    "  print([height, width])\n",
    "  numTiles = min([height, width]) // trimmed_model_output_dim\n",
    "  print(numTiles)\n",
    "  newDim = numTiles * scale\n",
    "  print(newDim)\n",
    "  upscaledDim = newDim*model_output_dim + (overlap * (numTiles - 1))\n",
    "  print(upscaledDim)\n",
    "  upscaled_img = tf.squeeze(tf.image.resize(\n",
    "    img,\n",
    "    [upscaledDim, upscaledDim],\n",
    "    preserve_aspect_ratio=True))\n",
    "\n",
    "  crops = []\n",
    "  for h in range(newDim):\n",
    "    for w in range(newDim):\n",
    "      crop = tf.slice(upscaled_img, [max(h*model_output_dim - h*overlap, 0), max(w*model_output_dim - w*overlap, 0), 0], [model_output_dim, model_output_dim, -1])\n",
    "      crops.append(crop)\n",
    "\n",
    "  crops = [np.array([c]) for c in crops]\n",
    "  # [print(c.shape) for c in crops]\n",
    "  crops = [model.predict(c) for c in crops]\n",
    "  crops = [np.squeeze(c) for c in crops]\n",
    "  crops = [tf.slice(c, [trim, trim, 0], [trimmed_model_output_dim, trimmed_model_output_dim, -1]) for c in crops]\n",
    "\n",
    "  overlap = overlap - trim\n",
    "\n",
    "  rows = []\n",
    "  for i in range(0, newDim*newDim, newDim):\n",
    "    row = crops[i]\n",
    "    for crop in crops[i+1:i+newDim]:\n",
    "      left = tf.slice(row, [0, 0, 0], [-1, row.shape[1] - overlap, -1])\n",
    "      right = tf.slice(crop, [0, overlap, 0], [-1, -1, -1])\n",
    "      overlap_left = tf.slice(row, [0, row.shape[1] - overlap, 0], [-1, -1, -1])\n",
    "      overlap_right = tf.slice(crop, [0, 0, 0], [-1, overlap, -1])\n",
    "      overlap_avg = (overlap_left + overlap_right) / 2\n",
    "      row = tf.concat((left, overlap_avg, right), axis=1)\n",
    "    rows.append(row)\n",
    "\n",
    "  \n",
    "  whole = rows[0]\n",
    "  for row in rows[1:]:\n",
    "    top = tf.slice(whole, [0, 0, 0], [whole.shape[0] - overlap, -1, -1])\n",
    "    bottom = tf.slice(row, [overlap, 0, 0], [-1, -1, -1])\n",
    "    overlap_top = tf.slice(whole, [whole.shape[0] - overlap, 0, 0], [-1, -1, -1])\n",
    "    overlap_bottom = tf.slice(row, [0, 0, 0], [overlap, -1, -1])\n",
    "    overlap_avg = (overlap_top + overlap_bottom) / 2\n",
    "    whole = tf.concat((top, overlap_avg, bottom), axis=0)\n",
    "\n",
    "\n",
    "  whole = whole + 1\n",
    "  whole = whole / 2\n",
    "  whole = whole * 255\n",
    "  whole = np.clip(whole, 0, 255).astype(np.uint8)\n",
    "\n",
    "  plt.title('Original')\n",
    "  plt.imshow(tf.cast(upscaled_img, tf.uint8))\n",
    "  plt.show()\n",
    "\n",
    "  plt.title(f'{scale}x enhanced')\n",
    "  plt.imsave(save_path, whole)\n",
    "  plt.imshow(whole)\n",
    "  plt.show()\n",
    "\n",
    "model = tf.keras.models.load_model('models/gan_in224_4Xzoom_plossX0-1_monilenet_backbone/iteration_9999.h5', compile=False)\n",
    "enhance_w_overlap_trim('./dog.jpg', 4, 224, 15, 10, model, './dog_gan224.jpg')"
   ]
  },
  {
   "cell_type": "code",
   "execution_count": null,
   "metadata": {},
   "outputs": [],
   "source": []
  }
 ],
 "metadata": {
  "interpreter": {
   "hash": "31f2aee4e71d21fbe5cf8b01ff0e069b9275f58929596ceb00d14d90e3e16cd6"
  },
  "kernelspec": {
   "display_name": "Python 3.8.10 64-bit",
   "language": "python",
   "name": "python3"
  },
  "language_info": {
   "codemirror_mode": {
    "name": "ipython",
    "version": 3
   },
   "file_extension": ".py",
   "mimetype": "text/x-python",
   "name": "python",
   "nbconvert_exporter": "python",
   "pygments_lexer": "ipython3",
   "version": "3.8.10"
  },
  "orig_nbformat": 4
 },
 "nbformat": 4,
 "nbformat_minor": 2
}
