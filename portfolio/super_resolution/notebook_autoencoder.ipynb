{
 "cells": [
  {
   "cell_type": "markdown",
   "metadata": {},
   "source": [
    "# Super Resolution"
   ]
  },
  {
   "cell_type": "code",
   "execution_count": null,
   "metadata": {},
   "outputs": [],
   "source": [
    "import tensorflow as tf\n",
    "from tensorflow import keras\n",
    "from tensorflow.keras import layers\n",
    "import matplotlib.pyplot as plt\n",
    "import matplotlib as mpl\n",
    "import numpy as np\n",
    "import pathlib\n",
    "import os\n",
    "from functools import reduce\n",
    "from random import random\n",
    "\n",
    "mpl.rcParams['figure.dpi'] = 600\n"
   ]
  },
  {
   "cell_type": "code",
   "execution_count": null,
   "metadata": {},
   "outputs": [],
   "source": [
    "dataset_name = 'flickr30k_images'\n",
    "data_dir = f'/root/.keras/datasets/{dataset_name}'\n",
    "\n",
    "if not os.path.isdir(data_dir):\n",
    "  dataset_url = f'https://datasets-349058029.s3.us-west-2.amazonaws.com/flickr/{dataset_name}.zip'\n",
    "  tf.keras.utils.get_file(origin=dataset_url, extract=True)\n",
    "\n",
    "data_dir = pathlib.Path(data_dir)\n",
    "print(f\"{len(list(data_dir.glob('*/*.jpg')))} images in dataset\")\n",
    "\n",
    "batch_size = 20\n",
    "resolution_down_factor = 0.25\n",
    "patch_size = 224\n",
    "image_size = 224\n",
    "\n",
    "ds = tf.keras.utils.image_dataset_from_directory(\n",
    "  data_dir,\n",
    "  labels=None,\n",
    "  crop_to_aspect_ratio=True,\n",
    "  shuffle=True,\n",
    "  image_size=(image_size, image_size),\n",
    "  batch_size=batch_size)\n",
    "\n",
    "# reduce the dataset size for faster processing\n",
    "ds = ds.take(int(0.001 * len(ds)))\n",
    "\n",
    "print(f'dataset size: {len(ds)}')"
   ]
  },
  {
   "cell_type": "code",
   "execution_count": null,
   "metadata": {},
   "outputs": [],
   "source": [
    "reduce_resolution = tf.keras.Sequential([\n",
    "  layers.Resizing(int(image_size*resolution_down_factor), int(image_size*resolution_down_factor)),\n",
    "  layers.Resizing(image_size, image_size),])\n",
    "\n",
    "scale = layers.Rescaling(1./255)\n",
    "\n",
    "def transforms(input):\n",
    "  y = scale(input)\n",
    "  X = tf.cast(reduce_resolution(input), tf.uint8) \n",
    "  return (X, y)\n",
    "\n",
    "\n",
    "AUTOTUNE = tf.data.AUTOTUNE\n",
    "\n",
    "test_ds = ds.map(transforms, num_parallel_calls=AUTOTUNE).prefetch(buffer_size=AUTOTUNE)"
   ]
  },
  {
   "cell_type": "code",
   "execution_count": null,
   "metadata": {},
   "outputs": [],
   "source": [
    "# Grab a batch of images\n",
    "X_batch, y_batch = next(test_ds.as_numpy_iterator())"
   ]
  },
  {
   "cell_type": "code",
   "execution_count": null,
   "metadata": {},
   "outputs": [],
   "source": [
    "def process(image, model, save_path=None):\n",
    "  # crops = []\n",
    "  # for h in range(3):\n",
    "  #   for w in range(3):\n",
    "  #     crops.append(tf.image.crop_to_bounding_box(image, h*patch_size, w*patch_size, patch_size, patch_size))\n",
    "\n",
    "  # crops = model.predict(np.array(crops))\n",
    "  # crops = [np.squeeze(np.clip(c, 0.0, 1.0)) for c in crops]\n",
    "\n",
    "  # top = tf.concat(crops[:3], axis=1)\n",
    "  # middle = tf.concat(crops[3:6], axis=1)\n",
    "  # bottom = tf.concat(crops[6:], axis=1)\n",
    "  # whole = tf.concat((top, middle, bottom), axis=0)\n",
    "\n",
    "  whole = np.clip(np.squeeze(model.predict(np.array([image]))), 0.0, 1.0)\n",
    "\n",
    "  if save_path is not None:\n",
    "    plt.imsave(save_path, whole)\n",
    "\n",
    "  return whole"
   ]
  },
  {
   "cell_type": "code",
   "execution_count": null,
   "metadata": {},
   "outputs": [],
   "source": [
    "# Show example images\n",
    "fig = plt.figure(figsize=(4, 2), dpi=300)\n",
    "columns = 4\n",
    "rows = 2\n",
    "plt.title('input vs target', fontsize=4)\n",
    "plt.axis('off')\n",
    "for i in range(1, columns*rows+1, 2):\n",
    "    input = X_batch[i]\n",
    "    target = y_batch[i]\n",
    "    fig.add_subplot(rows, columns, i)\n",
    "    plt.axis('off')\n",
    "    plt.imshow(input)\n",
    "    fig.add_subplot(rows, columns, i+1)\n",
    "    plt.axis('off')\n",
    "    plt.imshow(target)\n",
    "plt.show()"
   ]
  },
  {
   "cell_type": "code",
   "execution_count": null,
   "metadata": {},
   "outputs": [],
   "source": [
    "rand_batch_int = int(random() * batch_size)"
   ]
  },
  {
   "cell_type": "code",
   "execution_count": null,
   "metadata": {},
   "outputs": [],
   "source": [
    "def plot_epochs(model_arch, epochs=4):\n",
    "  \n",
    "  save_path = f'./result_imgs/{model_arch}'\n",
    "  os.makedirs(save_path, exist_ok=True)\n",
    "\n",
    "  input = X_batch[rand_batch_int]\n",
    "  target = y_batch[rand_batch_int]\n",
    "\n",
    "  plt.imsave(f'{save_path}/0.jpg', input)\n",
    "\n",
    "  model = tf.keras.models.load_model(f'models/{model_arch}_epoch_1.h5', compile=False)\n",
    "  sr_image1 = process(X_batch[rand_batch_int], model, f'{save_path}/a_epoch_1.jpg')\n",
    "\n",
    "  model = tf.keras.models.load_model(f'models/{model_arch}_epoch_2.h5', compile=False)\n",
    "  sr_image2 = process(X_batch[rand_batch_int], model, f'{save_path}/b_epoch_2.jpg')\n",
    "\n",
    "  model = tf.keras.models.load_model(f'models/{model_arch}_epoch_3.h5', compile=False)\n",
    "  sr_image3 = process(X_batch[rand_batch_int], model, f'{save_path}/c_epoch_3.jpg')\n",
    "\n",
    "  model = tf.keras.models.load_model(f'models/{model_arch}_epoch_4.h5', compile=False)\n",
    "  sr_image4 = process(X_batch[rand_batch_int], model, f'{save_path}/d_epoch_4.jpg')\n",
    "\n",
    "  if epochs == 6:\n",
    "    model = tf.keras.models.load_model(f'models/{model_arch}_epoch_5.h5', compile=False)\n",
    "    sr_image5 = process(X_batch[rand_batch_int], model, f'{save_path}/c_epoch_5.jpg')\n",
    "\n",
    "    model = tf.keras.models.load_model(f'models/{model_arch}_epoch_6.h5', compile=False)\n",
    "    sr_image6 = process(X_batch[rand_batch_int], model, f'{save_path}/d_epoch_6.jpg')\n",
    "\n",
    "\n",
    "  # Display results\n",
    "  if epochs == 4:\n",
    "    fig = plt.figure(figsize=(2, 3), dpi=600)\n",
    "    columns, rows = (2, 3)\n",
    "  elif epochs == 6:\n",
    "    fig = plt.figure(figsize=(2, 4), dpi=600)\n",
    "    columns, rows = (2, 4)\n",
    "\n",
    "  fig.add_subplot(rows, columns, 1)\n",
    "  plt.title('Input Image', fontsize=4)\n",
    "  plt.axis('off')\n",
    "  plt.imshow(input)\n",
    "\n",
    "  fig.add_subplot(rows, columns, 2)\n",
    "  plt.title('Ground Truth', fontsize=4)\n",
    "  plt.axis('off')\n",
    "  plt.imshow(target)\n",
    "\n",
    "  fig.add_subplot(rows, columns, 3)\n",
    "  plt.title('Epoch 1', fontsize=4)\n",
    "  plt.axis('off')\n",
    "  plt.imshow(sr_image1)\n",
    "\n",
    "  fig.add_subplot(rows, columns, 4)\n",
    "  plt.title('Epoch 2', fontsize=4)\n",
    "  plt.axis('off')\n",
    "  plt.imshow(sr_image2)\n",
    "\n",
    "  fig.add_subplot(rows, columns, 5)\n",
    "  plt.title('Epoch 3', fontsize=4)\n",
    "  plt.axis('off')\n",
    "  plt.imshow(sr_image3)\n",
    "\n",
    "  fig.add_subplot(rows, columns, 6)\n",
    "  plt.title('Epoch 4', fontsize=4)\n",
    "  plt.axis('off')\n",
    "  plt.imshow(sr_image4)\n",
    "\n",
    "  if epochs == 6:\n",
    "    fig.add_subplot(rows, columns, 7)\n",
    "    plt.title('Epoch 5', fontsize=4)\n",
    "    plt.axis('off')\n",
    "    plt.imshow(sr_image5)\n",
    "\n",
    "    fig.add_subplot(rows, columns, 8)\n",
    "    plt.title('Epoch 6', fontsize=4)\n",
    "    plt.axis('off')\n",
    "    plt.imshow(sr_image6)\n",
    "\n",
    "  plt.show()\n"
   ]
  },
  {
   "cell_type": "code",
   "execution_count": null,
   "metadata": {},
   "outputs": [],
   "source": [
    "# plot_epochs('in224_randcrop_x4zoom_plossX0_gramX0', epochs=6)"
   ]
  },
  {
   "cell_type": "code",
   "execution_count": null,
   "metadata": {},
   "outputs": [],
   "source": [
    "# plot_epochs('in224_randcrop_x4zoom_plossX0-001_gramX1')\n"
   ]
  },
  {
   "cell_type": "code",
   "execution_count": null,
   "metadata": {},
   "outputs": [],
   "source": [
    "# plot_epochs('in224_randcrop_x4zoom_plossX0-001_gramX0-001', epochs=6)"
   ]
  },
  {
   "cell_type": "code",
   "execution_count": null,
   "metadata": {},
   "outputs": [],
   "source": [
    "plot_epochs('in224_randcrop_x4zoom_plossX0-01_gramX0-01', epochs=6) # stuck between this one "
   ]
  },
  {
   "cell_type": "code",
   "execution_count": null,
   "metadata": {},
   "outputs": [],
   "source": [
    "plot_epochs('in224_randcrop_x4zoom_plossX0-1_gramX0-1', epochs=6)"
   ]
  },
  {
   "cell_type": "code",
   "execution_count": null,
   "metadata": {},
   "outputs": [],
   "source": [
    "plot_epochs('in224_randcrop_x4zoom_plossX0-1_gramX0-001', epochs=6) # and this one\n"
   ]
  },
  {
   "cell_type": "code",
   "execution_count": null,
   "metadata": {},
   "outputs": [],
   "source": [
    "plot_epochs('in224_randcrop_x4zoom_plossX0-1_gramX0-00001', epochs=6)"
   ]
  },
  {
   "cell_type": "code",
   "execution_count": null,
   "metadata": {},
   "outputs": [],
   "source": [
    "plot_epochs('in224_randcrop_x4zoom_plossX0-1_gramX0-01', epochs=6) # see if this one is a happy medium"
   ]
  },
  {
   "cell_type": "code",
   "execution_count": null,
   "metadata": {},
   "outputs": [],
   "source": [
    "def load_img(image_path):\n",
    "  img = tf.io.read_file(image_path)\n",
    "  img = tf.image.decode_image(img, channels=3)\n",
    "  img = tf.image.convert_image_dtype(img, tf.uint8)\n",
    "  img = img[tf.newaxis, :]\n",
    "  return img"
   ]
  },
  {
   "cell_type": "code",
   "execution_count": null,
   "metadata": {},
   "outputs": [],
   "source": [
    "def enhance(image_path, scale, model, save_path):\n",
    "  model_output_dim = 224\n",
    "  img = load_img(image_path)\n",
    "  b, height, width, d = img.shape\n",
    "  numTiles = min([height, width]) // model_output_dim\n",
    "  newDim = numTiles * scale\n",
    "  upscaledDim = newDim*model_output_dim\n",
    "  upscaled_img = tf.squeeze(tf.image.resize(\n",
    "    img,\n",
    "    [upscaledDim, upscaledDim],\n",
    "    preserve_aspect_ratio=True))\n",
    "  \n",
    "  crops = []\n",
    "  for h in range(newDim):\n",
    "    for w in range(newDim):\n",
    "      crop = tf.image.crop_to_bounding_box(upscaled_img, h*model_output_dim, w*model_output_dim, model_output_dim, model_output_dim)\n",
    "      crops.append(crop)\n",
    "\n",
    "  crops = model.predict(np.array(crops))\n",
    "  crops = [np.squeeze(np.clip(c, 0.0, 1.0)) for c in crops]\n",
    "\n",
    "  rows = []\n",
    "  for i in range(0, newDim*newDim, newDim):\n",
    "    rows.append(tf.concat(crops[i:i+newDim], axis=1))\n",
    "\n",
    "  \n",
    "  whole = tf.concat(rows, axis=0)\n",
    "\n",
    "  plt.title('Original')\n",
    "  plt.imshow(tf.cast(upscaled_img, tf.uint8))\n",
    "  plt.show()\n",
    "\n",
    "  plt.title('4x enhanced')\n",
    "  plt.imsave(save_path, whole.numpy())\n",
    "  plt.imshow(whole)\n",
    "  plt.show()\n",
    "\n",
    "\n"
   ]
  },
  {
   "cell_type": "code",
   "execution_count": null,
   "metadata": {},
   "outputs": [],
   "source": [
    "\n",
    "model = tf.keras.models.load_model('models/in224_randcrop_x4zoom_plossX0-1_gramX0-01_epoch_6.h5', compile=False)\n",
    "enhance('./dog.jpg', 4, model, './dog_enhanced5.jpg')"
   ]
  },
  {
   "cell_type": "code",
   "execution_count": null,
   "metadata": {},
   "outputs": [],
   "source": []
  }
 ],
 "metadata": {
  "interpreter": {
   "hash": "31f2aee4e71d21fbe5cf8b01ff0e069b9275f58929596ceb00d14d90e3e16cd6"
  },
  "kernelspec": {
   "display_name": "Python 3.8.10 64-bit",
   "language": "python",
   "name": "python3"
  },
  "language_info": {
   "codemirror_mode": {
    "name": "ipython",
    "version": 3
   },
   "file_extension": ".py",
   "mimetype": "text/x-python",
   "name": "python",
   "nbconvert_exporter": "python",
   "pygments_lexer": "ipython3",
   "version": "3.8.10"
  },
  "orig_nbformat": 4
 },
 "nbformat": 4,
 "nbformat_minor": 2
}
