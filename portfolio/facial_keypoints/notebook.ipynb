{
 "cells": [
  {
   "cell_type": "markdown",
   "metadata": {},
   "source": [
    "Facial Keypoint Detection\n",
    "\n",
    "Based on paper [Facial Key Points Detection using Deep Convolutional Neural Network](https://arxiv.org/pdf/1710.00977.pdf)\n",
    "\n",
    "Goals:\n",
    "\n",
    "1) To train a Neural Network to identify facial landmarks from an image of a face\n",
    "2) Create a pipline to use Haar Cascades to locate faces in an arbitrary image so facial landmarks can be found and plotted\n",
    "3) Implememt this pipleline in a web app so that facial keypoints may be detected from a live webcam feed "
   ]
  },
  {
   "cell_type": "markdown",
   "metadata": {},
   "source": [
    "Exploritory Data Analysis\n",
    "\n",
    "the dataset that will be used to train the network has been extracted from the [YouTube Faces Dataset](https://www.cs.tau.ac.il/~wolf/ytfaces/) and has been processed to identify 68 unique facial keypoints on each image.\n",
    "\n",
    "Below I visualize some of the training set."
   ]
  },
  {
   "cell_type": "code",
   "execution_count": null,
   "metadata": {},
   "outputs": [],
   "source": []
  }
 ],
 "metadata": {
  "language_info": {
   "name": "python"
  },
  "orig_nbformat": 4
 },
 "nbformat": 4,
 "nbformat_minor": 2
}
