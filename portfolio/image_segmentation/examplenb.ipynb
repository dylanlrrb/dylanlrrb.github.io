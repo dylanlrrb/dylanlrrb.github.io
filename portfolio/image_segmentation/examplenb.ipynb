{
 "cells": [
  {
   "cell_type": "code",
   "execution_count": null,
   "metadata": {},
   "outputs": [],
   "source": [
    "import pickle as pkl\n",
    "import numpy as np\n",
    "import imageio"
   ]
  },
  {
   "cell_type": "code",
   "execution_count": null,
   "metadata": {},
   "outputs": [],
   "source": [
    "anim_file = 'assets/test_model9_cat.gif'\n",
    "\n",
    "with open('train_samples/test_model9_cat.pkl', 'rb') as f:\n",
    "    train_samples = pkl.load(f)\n",
    "    with imageio.get_writer(anim_file, mode='I', fps=5) as writer:\n",
    "      for sample in train_samples:\n",
    "        writer.append_data(np.array(sample))"
   ]
  },
  {
   "cell_type": "code",
   "execution_count": null,
   "metadata": {},
   "outputs": [],
   "source": [
    "import numpy as np\n",
    "import tensorflow as tf\n",
    "from keras.layers import Reshape"
   ]
  },
  {
   "cell_type": "code",
   "execution_count": null,
   "metadata": {},
   "outputs": [],
   "source": [
    "test = [\n",
    "  [\n",
    "    [1,2,3],[4,5,6],[7,8,9],\n",
    "  ],\n",
    "  [\n",
    "    [10,11,12],[13,14,15],[16,17,18],\n",
    "  ],\n",
    "  [\n",
    "    [19,20,21],[22,23,24],[25,26,27],\n",
    "  ],\n",
    "]\n",
    "\n",
    "test = np.array(test)\n",
    "h,w,d = test.shape\n",
    "target_shape = (h*w, d)\n",
    "\n",
    "test = tf.reshape(test, target_shape)\n",
    "\n",
    "print(test)\n",
    "\n",
    "test = tf.reshape(test, (h, w, d))\n",
    "\n",
    "print(test)\n"
   ]
  },
  {
   "cell_type": "code",
   "execution_count": null,
   "metadata": {},
   "outputs": [],
   "source": []
  }
 ],
 "metadata": {
  "kernelspec": {
   "display_name": "Python 3.8.10 64-bit",
   "language": "python",
   "name": "python3"
  },
  "language_info": {
   "codemirror_mode": {
    "name": "ipython",
    "version": 3
   },
   "file_extension": ".py",
   "mimetype": "text/x-python",
   "name": "python",
   "nbconvert_exporter": "python",
   "pygments_lexer": "ipython3",
   "version": "3.8.10"
  },
  "orig_nbformat": 4,
  "vscode": {
   "interpreter": {
    "hash": "31f2aee4e71d21fbe5cf8b01ff0e069b9275f58929596ceb00d14d90e3e16cd6"
   }
  }
 },
 "nbformat": 4,
 "nbformat_minor": 2
}
