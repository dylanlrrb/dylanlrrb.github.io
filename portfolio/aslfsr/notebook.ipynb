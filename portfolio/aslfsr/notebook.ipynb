{
 "cells": [
  {
   "attachments": {},
   "cell_type": "markdown",
   "metadata": {},
   "source": [
    "# Finger Spelling Recognition"
   ]
  },
  {
   "cell_type": "code",
   "execution_count": 1,
   "metadata": {},
   "outputs": [
    {
     "name": "stderr",
     "output_type": "stream",
     "text": [
      "2023-06-24 18:17:38.070417: I tensorflow/core/platform/cpu_feature_guard.cc:193] This TensorFlow binary is optimized with oneAPI Deep Neural Network Library (oneDNN) to use the following CPU instructions in performance-critical operations:  AVX2 FMA\n",
      "To enable them in other operations, rebuild TensorFlow with the appropriate compiler flags.\n",
      "2023-06-24 18:17:54.299741: E tensorflow/stream_executor/cuda/cuda_blas.cc:2981] Unable to register cuBLAS factory: Attempting to register factory for plugin cuBLAS when one has already been registered\n",
      "/usr/lib/python3/dist-packages/requests/__init__.py:89: RequestsDependencyWarning: urllib3 (1.26.16) or chardet (3.0.4) doesn't match a supported version!\n",
      "  warnings.warn(\"urllib3 ({}) or chardet ({}) doesn't match a supported \"\n"
     ]
    }
   ],
   "source": [
    "\n",
    "import tensorflow as tf\n",
    "import tensorflow_datasets as tfds\n",
    "from tools.tqdm_notebook_callback import TQDMNotebookCallback\n",
    "\n",
    "import wandb\n",
    "from wandb.keras import WandbMetricsLogger, WandbModelCheckpoint\n"
   ]
  },
  {
   "cell_type": "code",
   "execution_count": 2,
   "metadata": {},
   "outputs": [
    {
     "name": "stdout",
     "output_type": "stream",
     "text": [
      "2.10.0\n"
     ]
    }
   ],
   "source": [
    "print(tf.__version__)"
   ]
  },
  {
   "cell_type": "code",
   "execution_count": null,
   "metadata": {},
   "outputs": [],
   "source": [
    "(ds_train, ds_test), ds_info = tfds.load(\n",
    "    'mnist',\n",
    "    split=['train', 'test'],\n",
    "    shuffle_files=True,\n",
    "    as_supervised=True,\n",
    "    with_info=True,\n",
    ")\n",
    "\n",
    "def normalize_img(image, label):\n",
    "  \"\"\"Normalizes images: `uint8` -> `float32`.\"\"\"\n",
    "  # return (tf.cast(image, tf.float32) / 255., tf.cast(label, tf.float32))\n",
    "  return tf.cast(tf.expand_dims(image, -1), tf.float32) / 255., label"
   ]
  },
  {
   "cell_type": "code",
   "execution_count": null,
   "metadata": {},
   "outputs": [],
   "source": [
    "ds_train = ds_train.map(\n",
    "    normalize_img, num_parallel_calls=tf.data.AUTOTUNE)\n",
    "ds_train = ds_train.batch(512)\n",
    "ds_train = ds_train.cache()\n",
    "ds_train = ds_train.shuffle(ds_info.splits['train'].num_examples)\n",
    "ds_train = ds_train.prefetch(tf.data.AUTOTUNE)\n",
    "\n",
    "ds_test = ds_test.map(\n",
    "    normalize_img, num_parallel_calls=tf.data.AUTOTUNE)\n",
    "ds_test = ds_test.batch(512)\n",
    "ds_test = ds_test.cache()\n",
    "ds_test = ds_test.prefetch(tf.data.AUTOTUNE)"
   ]
  },
  {
   "cell_type": "code",
   "execution_count": null,
   "metadata": {},
   "outputs": [],
   "source": [
    "wandb.init(\n",
    "    project=\"mnist-playground\",\n",
    "    name=\"non-distributed\",\n",
    "    config={\n",
    "        \"learning_rate\": 0.001,\n",
    "        # \"epochs\": 10,\n",
    "        # \"batch_size\": 128\n",
    "    }\n",
    ")\n",
    "\n",
    "config = wandb.config"
   ]
  },
  {
   "cell_type": "code",
   "execution_count": null,
   "metadata": {},
   "outputs": [],
   "source": [
    "# wandb.finish()"
   ]
  },
  {
   "cell_type": "code",
   "execution_count": null,
   "metadata": {},
   "outputs": [],
   "source": [
    "# num_classes = 10\n",
    "input_shape = (28, 28, 1)\n",
    "\n",
    "# mirrored_strategy = tf.distribute.MirroredStrategy()\n",
    "\n",
    "# with mirrored_strategy.scope():\n",
    "\n",
    "model = tf.keras.models.Sequential([\n",
    "    tf.keras.layers.Input(shape=input_shape),\n",
    "    tf.keras.layers.Conv2D(32, kernel_size=(3, 3), activation=\"relu\"),\n",
    "    tf.keras.layers.MaxPooling2D(pool_size=(2, 2)),\n",
    "    tf.keras.layers.Conv2D(64, kernel_size=(3, 3), activation=\"relu\"),\n",
    "    tf.keras.layers.MaxPooling2D(pool_size=(2, 2)),\n",
    "    tf.keras.layers.Flatten(),\n",
    "    tf.keras.layers.Dropout(0.5),\n",
    "    tf.keras.layers.Dense(10, activation=\"softmax\"),\n",
    "])\n",
    "\n",
    "\n",
    "\n",
    "    # model = tf.keras.Sequential([\n",
    "    #     tf.keras.layers.Flatten(input_shape=input_shape),\n",
    "    #     tf.keras.layers.Dense(128, activation='relu'),\n",
    "    #     tf.keras.layers.Dense(10, activation=\"softmax\"),\n",
    "    # ])\n",
    "\n",
    "model.compile(\n",
    "    # optimizer=\"adam\",\n",
    "    # optimizer=tf.keras.optimizers.Adam(config.learning_rate),\n",
    "    optimizer=tf.keras.optimizers.legacy.Adam(0.001),\n",
    "    loss=tf.keras.losses.SparseCategoricalCrossentropy(),\n",
    "    # metrics=[tf.keras.metrics.SparseCategoricalAccuracy()],\n",
    "    metrics=[\"accuracy\", \"mse\"]\n",
    ")\n",
    "\n",
    "# model.summary()\n",
    "\n"
   ]
  },
  {
   "cell_type": "code",
   "execution_count": null,
   "metadata": {},
   "outputs": [],
   "source": [
    "tf.get_logger().setLevel('ERROR')\n",
    "\n",
    "model.fit(\n",
    "    # x=x_train,\n",
    "    # y=y_train,\n",
    "    ds_train,\n",
    "    # batch_size=config.batch_size,\n",
    "    # epochs=config.epochs,\n",
    "    # batch_size=128,\n",
    "    epochs=10,\n",
    "    # validation_split=0.1,\n",
    "    validation_data=ds_test,\n",
    "    verbose=0,\n",
    "    callbacks=[\n",
    "        # WandbMetricsLogger(log_freq=5),\n",
    "        TQDMNotebookCallback(),\n",
    "    ]\n",
    ")\n",
    "\n",
    "# wandb.finish()"
   ]
  },
  {
   "cell_type": "code",
   "execution_count": null,
   "metadata": {},
   "outputs": [],
   "source": [
    "# wandb.init(\n",
    "#     project=\"mnist-playground\",\n",
    "#     name=\"distributed\",\n",
    "#     config={\n",
    "#         \"learning_rate\": 0.001,\n",
    "#         \"epochs\": 10,\n",
    "#         \"batch_size\": 128\n",
    "#     }\n",
    "# )\n",
    "\n",
    "# config = wandb.config"
   ]
  },
  {
   "cell_type": "code",
   "execution_count": null,
   "metadata": {},
   "outputs": [],
   "source": [
    "# mirrored_strategy = tf.distribute.MirroredStrategy()\n",
    "\n",
    "# with mirrored_strategy.scope():\n",
    "#   distributed_model = tf.keras.models.Sequential([\n",
    "#     tf.keras.layers.Flatten(input_shape=(28, 28)),\n",
    "#     tf.keras.layers.Dense(128, activation='relu'),\n",
    "#     tf.keras.layers.Dense(10)\n",
    "#   ])\n",
    "\n",
    "# distributed_model.compile(\n",
    "#     optimizer=tf.keras.optimizers.Adam(config.learning_rate),\n",
    "#     loss=tf.keras.losses.SparseCategoricalCrossentropy(from_logits=True),\n",
    "#     metrics=[tf.keras.metrics.SparseCategoricalAccuracy(),\n",
    "#              tf.keras.metrics.MeanSquaredError(),\n",
    "#              tf.keras.metrics.MeanAbsoluteError()\n",
    "#             ],\n",
    "# )\n",
    "\n",
    "# distributed_model.fit(\n",
    "#     ds_train,\n",
    "#     batch_size=config.batch_size,\n",
    "#     epochs=config.epochs,\n",
    "#     validation_data=ds_test,\n",
    "#     verbose=0,\n",
    "#     callbacks=[\n",
    "#         WandbMetricsLogger(log_freq=5),\n",
    "#         TQDMNotebookCallback()\n",
    "#     ]\n",
    "# )\n",
    "\n",
    "# wandb.finish()"
   ]
  },
  {
   "cell_type": "code",
   "execution_count": null,
   "metadata": {},
   "outputs": [],
   "source": []
  }
 ],
 "metadata": {
  "interpreter": {
   "hash": "31f2aee4e71d21fbe5cf8b01ff0e069b9275f58929596ceb00d14d90e3e16cd6"
  },
  "kernelspec": {
   "display_name": "Python 3.8.10 64-bit",
   "language": "python",
   "name": "python3"
  },
  "language_info": {
   "codemirror_mode": {
    "name": "ipython",
    "version": 3
   },
   "file_extension": ".py",
   "mimetype": "text/x-python",
   "name": "python",
   "nbconvert_exporter": "python",
   "pygments_lexer": "ipython3",
   "version": "3.8.10"
  },
  "orig_nbformat": 4
 },
 "nbformat": 4,
 "nbformat_minor": 2
}
